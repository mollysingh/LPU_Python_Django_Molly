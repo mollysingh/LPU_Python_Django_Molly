{
 "cells": [
  {
   "cell_type": "markdown",
   "metadata": {},
   "source": [
    "<b>Q1. Write a program to print all the natural numbers from 1 to n (user input). Then print the same in reverse order.</b>"
   ]
  },
  {
   "cell_type": "code",
   "execution_count": 12,
   "metadata": {},
   "outputs": [
    {
     "name": "stdout",
     "output_type": "stream",
     "text": [
      "Enter the value of n: 10\n",
      "1 2 3 4 5 6 7 8 9 10 \n",
      "Reverse Order: \n",
      "10 9 8 7 6 5 4 3 2 1 "
     ]
    }
   ],
   "source": [
    "n=int(input(\"Enter the value of n: \"))\n",
    "for i in range(1,n+1):\n",
    "    print(i,end=\" \")\n",
    "print()\n",
    "print(\"Reverse Order: \")\n",
    "for i in range(n,0,-1):\n",
    "    print(i,end=\" \")"
   ]
  },
  {
   "cell_type": "markdown",
   "metadata": {},
   "source": [
    "<b>Q2. Print all odd numbers and even numbers between 1 to 100.</b>"
   ]
  },
  {
   "cell_type": "code",
   "execution_count": 27,
   "metadata": {},
   "outputs": [
    {
     "name": "stdout",
     "output_type": "stream",
     "text": [
      "----Between 1 and 100----\n",
      "Even Numbers \n",
      "2 4 6 8 10 12 14 16 18 20 22 24 26 28 30 32 34 36 38 40 42 44 46 48 50 52 54 56 58 60 62 64 66 68 70 72 74 76 78 80 82 84 86 88 90 92 94 96 98 100 \n",
      "\n",
      "Odd Numbers \n",
      "1 3 5 7 9 11 13 15 17 19 21 23 25 27 29 31 33 35 37 39 41 43 45 47 49 51 53 55 57 59 61 63 65 67 69 71 73 75 77 79 81 83 85 87 89 91 93 95 97 99 "
     ]
    }
   ],
   "source": [
    "print(\"----Between 1 and 100----\")\n",
    "print(\"Even Numbers \")\n",
    "for i in range(1,101):\n",
    "    if (i%2==0): print(i, end=\" \")\n",
    "print(\"\\n\")\n",
    "print(\"Odd Numbers \")\n",
    "for i in range(1,101):\n",
    "    if (i%2!=0): print(i, end=\" \")       "
   ]
  },
  {
   "cell_type": "markdown",
   "metadata": {},
   "source": [
    "<b>Q3. Write a program to check if a number is prime or not. Example: 7 ==> True, 6 ==> False</b>"
   ]
  },
  {
   "cell_type": "code",
   "execution_count": 44,
   "metadata": {},
   "outputs": [
    {
     "name": "stdout",
     "output_type": "stream",
     "text": [
      "Enter a number to check primality test : 343\n",
      "False\n"
     ]
    }
   ],
   "source": [
    "n=int(input(\"Enter a number to check primality test : \"))\n",
    "if(n==0 or n==1):\n",
    "    print(\"False\")\n",
    "c=0;\n",
    "    \n",
    "for i in range (1,n+1):\n",
    "    if(n%i==0):\n",
    "        c+=1\n",
    "if(c>2):\n",
    "    print(\"False\")\n",
    "else:\n",
    "    print(\"True\")"
   ]
  },
  {
   "cell_type": "markdown",
   "metadata": {},
   "source": [
    "<b>Q4. Write a program that asks the user for a number n and prints the sum of the numbers 1 to n such that only multiples of three or five are considered in the sum, e.g. 3, 5, 6, 9, 10, 12, 15 for n=17.</b>"
   ]
  },
  {
   "cell_type": "code",
   "execution_count": 49,
   "metadata": {},
   "outputs": [
    {
     "name": "stdout",
     "output_type": "stream",
     "text": [
      "Enter a number: 17\n",
      "3 5 6 9 10 12 15 \n",
      "The desired sum is  60\n"
     ]
    }
   ],
   "source": [
    "n=int(input(\"Enter a number: \"))\n",
    "sum=0\n",
    "for i in range(1,n+1):\n",
    "    if(i%3==0 or i%5==0):\n",
    "        print(i,end=\" \")\n",
    "        sum+=i\n",
    "print()\n",
    "print(\"The desired sum is \",sum)"
   ]
  },
  {
   "cell_type": "markdown",
   "metadata": {},
   "source": [
    "<b>Q5. Write a program that asks the user for a number n and gives them the possibility to choose between computing the sum and computing the product of 1,…,n.</b>"
   ]
  },
  {
   "cell_type": "code",
   "execution_count": 57,
   "metadata": {},
   "outputs": [
    {
     "name": "stdout",
     "output_type": "stream",
     "text": [
      "Enter a number: 4\n",
      "Enter 1 for SUM and 2 for PRODUCT 2\n",
      "Product =  24\n"
     ]
    }
   ],
   "source": [
    "n=int(input(\"Enter a number: \"))\n",
    "c=int(input(\"Enter 1 for SUM and 2 for PRODUCT \"))\n",
    "def calc_sum():\n",
    "    s=0\n",
    "    for i in range(1,n+1):\n",
    "        s+=i\n",
    "    print(\"Sum = \",s)\n",
    "def calc_pro():\n",
    "    p=1\n",
    "    for i in range(1,n+1):\n",
    "        p=p*(i)\n",
    "    print(\"Product = \",p)\n",
    "if(c==1):\n",
    "    calc_sum()\n",
    "elif(c==2):\n",
    "    calc_pro()\n",
    "else:\n",
    "    print(\"Enter a valid choice !!!\")"
   ]
  },
  {
   "cell_type": "markdown",
   "metadata": {},
   "source": [
    "<b>Q6. Find the sum of all the multiples of 3 or 5 below 1000.</b>"
   ]
  },
  {
   "cell_type": "code",
   "execution_count": 58,
   "metadata": {},
   "outputs": [
    {
     "name": "stdout",
     "output_type": "stream",
     "text": [
      "The sum of all the multiples of 3 or 5 below 1000 is  233168\n"
     ]
    }
   ],
   "source": [
    "sum=0\n",
    "for i in range(1000):\n",
    "    if(i%3==0 or i%5==0):\n",
    "        sum+=i\n",
    "print(\"The sum of all the multiples of 3 or 5 below 1000 is \",sum)\n",
    "        "
   ]
  },
  {
   "cell_type": "markdown",
   "metadata": {},
   "source": [
    "<b>Q7. Write a program which will find all such numbers which are divisible by 7 but are not a multiple of 5, between 2000 and 3200 (both included).</b>"
   ]
  },
  {
   "cell_type": "code",
   "execution_count": 59,
   "metadata": {},
   "outputs": [
    {
     "name": "stdout",
     "output_type": "stream",
     "text": [
      "2002 2009 2016 2023 2037 2044 2051 2058 2072 2079 2086 2093 2107 2114 2121 2128 2142 2149 2156 2163 2177 2184 2191 2198 2212 2219 2226 2233 2247 2254 2261 2268 2282 2289 2296 2303 2317 2324 2331 2338 2352 2359 2366 2373 2387 2394 2401 2408 2422 2429 2436 2443 2457 2464 2471 2478 2492 2499 2506 2513 2527 2534 2541 2548 2562 2569 2576 2583 2597 2604 2611 2618 2632 2639 2646 2653 2667 2674 2681 2688 2702 2709 2716 2723 2737 2744 2751 2758 2772 2779 2786 2793 2807 2814 2821 2828 2842 2849 2856 2863 2877 2884 2891 2898 2912 2919 2926 2933 2947 2954 2961 2968 2982 2989 2996 3003 3017 3024 3031 3038 3052 3059 3066 3073 3087 3094 3101 3108 3122 3129 3136 3143 3157 3164 3171 3178 3192 3199 "
     ]
    }
   ],
   "source": [
    "for i in range(2000,3201):\n",
    "    if(i%7==0 and i%5!=0):\n",
    "        print(i,end=\" \")"
   ]
  },
  {
   "cell_type": "markdown",
   "metadata": {},
   "source": [
    "<b>Q8. Find the difference between the sum of the squares of the first one hundred natural numbers and the square of the sum.</b>"
   ]
  },
  {
   "cell_type": "code",
   "execution_count": 66,
   "metadata": {},
   "outputs": [
    {
     "name": "stdout",
     "output_type": "stream",
     "text": [
      "The difference between the sum of the squares of the first 100 natural numbers and the square of the sum is : 25164150\n"
     ]
    }
   ],
   "source": [
    "s=0\n",
    "sos=0\n",
    "for i in range(1,101):\n",
    "    s+=i\n",
    "    sos+=(i**2)\n",
    "d=sos-(s**2)\n",
    "print(\"The difference between the sum of the squares of the first 100 natural numbers and the square of the sum is :\",abs(d))"
   ]
  },
  {
   "cell_type": "markdown",
   "metadata": {},
   "source": [
    "<b>Q9. Write a program which can compute the factorial of a given number.</b>"
   ]
  },
  {
   "cell_type": "code",
   "execution_count": 2,
   "metadata": {},
   "outputs": [
    {
     "name": "stdout",
     "output_type": "stream",
     "text": [
      "Enter the number 5\n",
      "The factorial of 5 is  120\n"
     ]
    }
   ],
   "source": [
    "num=int(input(\"Enter the number \"))\n",
    "fact=1\n",
    "if num < 0:\n",
    "    print(\"Sorry factorial does not exist for negative numbers\")\n",
    "elif num==0:\n",
    "    print(\"The factorial of 0 is 1\")\n",
    "else:\n",
    "    for i in range(1,num+1):\n",
    "        fact=fact*i\n",
    "    print(\"The factorial of\",num,\"is \",fact)"
   ]
  },
  {
   "cell_type": "markdown",
   "metadata": {},
   "source": [
    "<b>Q10. Pattern:</b>"
   ]
  },
  {
   "cell_type": "code",
   "execution_count": null,
   "metadata": {},
   "outputs": [],
   "source": [
    "1\n",
    "\n",
    "2 2\n",
    "\n",
    "3 3 3\n",
    "\n",
    "4 4 4 4\n",
    "\n",
    "5 5 5 5 5"
   ]
  },
  {
   "cell_type": "code",
   "execution_count": 3,
   "metadata": {},
   "outputs": [
    {
     "name": "stdout",
     "output_type": "stream",
     "text": [
      "Enter a number:5\n",
      "\n",
      "\n",
      "1 \n",
      "\n",
      "2 2 \n",
      "\n",
      "3 3 3 \n",
      "\n",
      "4 4 4 4 \n",
      "\n",
      "5 5 5 5 5 \n",
      "\n"
     ]
    }
   ],
   "source": [
    "a=int(input(\"Enter a number:\"))\n",
    "for i in range(a+1):\n",
    "    for j in range(i):\n",
    "        print(i,end=\" \")\n",
    "    print(\"\\n\")"
   ]
  },
  {
   "cell_type": "code",
   "execution_count": null,
   "metadata": {},
   "outputs": [],
   "source": [
    "5 5 5 5 5 \n",
    "5 4 4 4 5 \n",
    "5 4 3 4 5 \n",
    "5 4 4 4 5 \n",
    "5 5 5 5 5"
   ]
  },
  {
   "cell_type": "code",
   "execution_count": 5,
   "metadata": {},
   "outputs": [
    {
     "name": "stdout",
     "output_type": "stream",
     "text": [
      "Enter a number: 5\n",
      "5 5 5 5 5 \n",
      "5 4 4 4 5 \n",
      "5 4 3 4 5 \n",
      "5 4 4 4 5 \n",
      "5 5 5 5 5 \n"
     ]
    }
   ],
   "source": [
    "n=int(input(\"Enter a number: \"))\n",
    "for i in range(n):\n",
    "    for j in range(n):\n",
    "        print(max(i+1,j+1,n-i,n-j),end=\" \")\n",
    "    print()"
   ]
  },
  {
   "cell_type": "code",
   "execution_count": null,
   "metadata": {},
   "outputs": [],
   "source": [
    "* \n",
    "* * \n",
    "* * * \n",
    "* * * * \n",
    "* * * * *"
   ]
  },
  {
   "cell_type": "code",
   "execution_count": 7,
   "metadata": {},
   "outputs": [
    {
     "name": "stdout",
     "output_type": "stream",
     "text": [
      "Enter a number:5\n",
      "\n",
      "* \n",
      "* * \n",
      "* * * \n",
      "* * * * \n",
      "* * * * * \n"
     ]
    }
   ],
   "source": [
    "a=int(input(\"Enter a number:\"))\n",
    "for i in range(a+1):\n",
    "    for j in range(i):\n",
    "        print(\"*\",end=\" \")\n",
    "    print()"
   ]
  },
  {
   "cell_type": "code",
   "execution_count": null,
   "metadata": {},
   "outputs": [],
   "source": [
    "****\n",
    "***\n",
    "**\n",
    "*"
   ]
  },
  {
   "cell_type": "code",
   "execution_count": 19,
   "metadata": {},
   "outputs": [
    {
     "name": "stdout",
     "output_type": "stream",
     "text": [
      "Enter a number:4\n",
      "* * * * \n",
      "* * * \n",
      "* * \n",
      "* \n",
      "\n"
     ]
    }
   ],
   "source": [
    "a=int(input(\"Enter a number:\"))\n",
    "for i in range(a+1,0,-1):\n",
    "    for j in range(0,i-1):\n",
    "        print(\"*\",end=\" \")\n",
    "    print()"
   ]
  },
  {
   "cell_type": "code",
   "execution_count": null,
   "metadata": {},
   "outputs": [],
   "source": [
    "#####\n",
    "#####\n",
    "#####\n",
    "#####\n",
    "#####"
   ]
  },
  {
   "cell_type": "code",
   "execution_count": 26,
   "metadata": {},
   "outputs": [
    {
     "name": "stdout",
     "output_type": "stream",
     "text": [
      "Enter a number:5\n",
      "# # # # # \n",
      "# # # # # \n",
      "# # # # # \n",
      "# # # # # \n",
      "# # # # # \n"
     ]
    }
   ],
   "source": [
    "a=int(input(\"Enter a number:\"))\n",
    "for i in range(a):\n",
    "    for j in range(a):\n",
    "        print(\"#\",end=\" \")\n",
    "    print()"
   ]
  },
  {
   "cell_type": "markdown",
   "metadata": {},
   "source": [
    "<b>Q11. Write a program that computes the value of a+aa+aaa+aaaa with a given digit as the value of a. Suppose the following input is supplied to the program: 9, Then, the output should be: 9 + 99 + 999 + 9999 =  11106.</b>"
   ]
  },
  {
   "cell_type": "code",
   "execution_count": 37,
   "metadata": {},
   "outputs": [
    {
     "name": "stdout",
     "output_type": "stream",
     "text": [
      "Enter a digit: 9\n",
      "Enter how many numbers you want :4\n",
      "The desired sum is  11106\n"
     ]
    }
   ],
   "source": [
    "a =int(input(\"Enter a digit: \"))\n",
    "n=int(input(\"Enter how many numbers you want :\"))\n",
    "\n",
    "sum=0\n",
    "for i in range(1,n+1):\n",
    "       sum=sum+int((str(a)*i))\n",
    "    \n",
    "print(\"The desired sum is \",sum)\n",
    "    \n",
    "    "
   ]
  },
  {
   "cell_type": "markdown",
   "metadata": {},
   "source": [
    "<b>Q12. Find the length of a string using loops (not len()).</b>"
   ]
  },
  {
   "cell_type": "code",
   "execution_count": 38,
   "metadata": {},
   "outputs": [
    {
     "name": "stdout",
     "output_type": "stream",
     "text": [
      "Enter a string: Molly Singh\n",
      "Length of the string:  11\n"
     ]
    }
   ],
   "source": [
    "string=input(\"Enter a string: \")\n",
    "count=0\n",
    "for i in string:\n",
    "    count+=1\n",
    "print(\"Length of the string: \",count)"
   ]
  },
  {
   "cell_type": "markdown",
   "metadata": {},
   "source": [
    "<b>Q13. Write a program that accepts a sentence (string) and calculate the number of letters and digits. Example: ‘this is a test sentence number 389’ ==> letters = 25 and digits = 3.</b>"
   ]
  },
  {
   "cell_type": "code",
   "execution_count": 39,
   "metadata": {},
   "outputs": [
    {
     "name": "stdout",
     "output_type": "stream",
     "text": [
      "Enter a sentence : this is a test sentence number 389\n",
      "Number of letters:  25\n",
      "Number of digits:  3\n"
     ]
    }
   ],
   "source": [
    "sen=input(\"Enter a sentence : \")\n",
    "letter=0\n",
    "digit=0\n",
    "for i in sen:\n",
    "    if(i.isalpha()):\n",
    "        letter+=1\n",
    "    if(i.isdigit()):\n",
    "        digit+=1\n",
    "print(\"Number of letters: \",letter)\n",
    "print(\"Number of digits: \",digit)"
   ]
  },
  {
   "cell_type": "markdown",
   "metadata": {},
   "source": [
    "<b>Q14.  Write a program that accepts a string and outputs the string with all capital letters.\n",
    "\n",
    "      Example: ‘hello’ ==> ‘HELLO’. (using loop)</b>"
   ]
  },
  {
   "cell_type": "code",
   "execution_count": 42,
   "metadata": {},
   "outputs": [
    {
     "name": "stdout",
     "output_type": "stream",
     "text": [
      "Enter a string: molly\n",
      "Uppercase:  MOLLY\n"
     ]
    }
   ],
   "source": [
    "string=input(\"Enter a string: \")\n",
    "upper=''\n",
    "for i in range(len(string)):\n",
    "    if (string[i]>='a' and string[i]<='z'):\n",
    "        upper=upper+chr((ord(string[i]) - 32))\n",
    "    else:\n",
    "        upper=upper+string[i]\n",
    "print(\"Uppercase: \",upper)"
   ]
  },
  {
   "cell_type": "markdown",
   "metadata": {},
   "source": [
    "<b>Q15. Write a program that accepts a sentence and calculate the number of upper case letters and lower case letters.</b>"
   ]
  },
  {
   "cell_type": "code",
   "execution_count": 43,
   "metadata": {},
   "outputs": [
    {
     "name": "stdout",
     "output_type": "stream",
     "text": [
      "Enter a sentence: my NaMe Is MollY SinGH\n",
      "Number of uppercase letters:  8\n",
      "Number of lowercase letters:  10\n"
     ]
    }
   ],
   "source": [
    "sen=input(\"Enter a sentence: \")\n",
    "upper=0\n",
    "lower=0\n",
    "for i in sen:\n",
    "    if(i.isupper()):\n",
    "        upper+=1\n",
    "    if(i.islower()):\n",
    "        lower+=1\n",
    "print(\"Number of uppercase letters: \",upper)\n",
    "print(\"Number of lowercase letters: \",lower)\n",
    "    "
   ]
  },
  {
   "cell_type": "markdown",
   "metadata": {},
   "source": [
    "<b>Q16. Write  a program that counts the occurrence of a character in a string. Example: ‘This is a test string.’ count of i = 3.</b>"
   ]
  },
  {
   "cell_type": "code",
   "execution_count": 44,
   "metadata": {},
   "outputs": [
    {
     "name": "stdout",
     "output_type": "stream",
     "text": [
      "Enter a string: Molly Singh\n",
      "Enter a character: l\n",
      "Number of occurrences of  l are:  2\n"
     ]
    }
   ],
   "source": [
    "string=input(\"Enter a string: \")\n",
    "ch=input(\"Enter a character: \")\n",
    "count=0\n",
    "for i in string:\n",
    "    if(i==ch):\n",
    "        count+=1\n",
    "print(\"Number of occurrences of \",ch,\"are: \",count)\n",
    "    "
   ]
  },
  {
   "cell_type": "markdown",
   "metadata": {},
   "source": [
    "<b>Q17. Write a program to find if a given string is a palindrome or not.</b>"
   ]
  },
  {
   "cell_type": "code",
   "execution_count": 45,
   "metadata": {},
   "outputs": [
    {
     "name": "stdout",
     "output_type": "stream",
     "text": [
      "Enter a string: aibohphobia\n",
      "Palindrome\n"
     ]
    }
   ],
   "source": [
    "string=input(\"Enter a string: \")\n",
    "str_rev=string[::-1]\n",
    "if(string==str_rev):\n",
    "    print(\"Palindrome\")\n",
    "else:\n",
    "    print(\"Non-Palindrome\")"
   ]
  },
  {
   "cell_type": "markdown",
   "metadata": {},
   "source": [
    "<b>Q18. Write a program which accepts two strings s1 and s2 and checks if s2 is a substring of s1.</b>"
   ]
  },
  {
   "cell_type": "code",
   "execution_count": 49,
   "metadata": {},
   "outputs": [
    {
     "name": "stdout",
     "output_type": "stream",
     "text": [
      "Enter String 1 : grammar\n",
      "Enter String 2 : ram\n",
      "Substring!!!\n"
     ]
    }
   ],
   "source": [
    "string1=input(\"Enter String 1 : \")\n",
    "string2=input(\"Enter String 2 : \")\n",
    "\n",
    "if (string1.find(string2) == -1):\n",
    "    print(\"Not a substring!!!\")\n",
    "else:\n",
    "    print(\"Substring!!!\")\n"
   ]
  },
  {
   "cell_type": "markdown",
   "metadata": {},
   "source": [
    "<b>Q19. Make a password validator with the following checks. A website requires the users to input username and password to register. Write a program to check the validity of password input by users.\n",
    "\n",
    "    Following are the criteria for checking the password:\n",
    "1. At least  1 letter between [a-z]     \n",
    "2. At least 1 number between [0-9]     \n",
    "3. At least 1 letter between [@$#%&]</b>"
   ]
  },
  {
   "cell_type": "code",
   "execution_count": 4,
   "metadata": {},
   "outputs": [
    {
     "name": "stdout",
     "output_type": "stream",
     "text": [
      "Following are the criteria for checking the password:\n",
      "At least 1 letter between [a-z]\n",
      "At least 1 number between [0-9]\n",
      "At least 1 letter between [@$#%&]\n",
      "Enter username: molly78\n",
      "Enter password: m@28\n",
      "Password validated\n"
     ]
    }
   ],
   "source": [
    "print(\"Following are the criteria for checking the password:\")\n",
    "print(\"At least 1 letter between [a-z]\")\n",
    "print(\"At least 1 number between [0-9]\")\n",
    "print(\"At least 1 letter between [@$#%&]\")\n",
    "username=input(\"Enter username: \")\n",
    "password=input(\"Enter password: \")\n",
    "letter=0\n",
    "number=0\n",
    "ss=\"@$#%&\"\n",
    "symbol=0\n",
    "for i in password:\n",
    "    if(i.isalpha()):\n",
    "        letter+=1\n",
    "    if(i.isdigit()):\n",
    "        number+=1\n",
    "    if(i in ss):\n",
    "        symbol+=1\n",
    "if(letter>=1 and number>=1 and symbol>=1):\n",
    "    print(\"Password validated\")\n",
    "else:\n",
    "    print(\"Password Invalid !!! Read the criteria again\")\n"
   ]
  },
  {
   "cell_type": "markdown",
   "metadata": {},
   "source": [
    "<b>Q20. s = \"Hello how are you all\". For this given string write a code such that it prints the vowels present in the string s if any. ex: \"i\", \"a\" etc.</b>"
   ]
  },
  {
   "cell_type": "code",
   "execution_count": 54,
   "metadata": {},
   "outputs": [
    {
     "name": "stdout",
     "output_type": "stream",
     "text": [
      "Enter the string: Hello how are you all\n",
      "Vowels present in the string are:   eoau\n"
     ]
    }
   ],
   "source": [
    "def get_vowels(s):\n",
    "    new_str=\" \"\n",
    "    for i in s:\n",
    "        if i in \"aeiouAEIOU\":\n",
    "            if i not in new_str:\n",
    "                new_str+=i\n",
    "        else:\n",
    "            pass\n",
    "    print(\"Vowels present in the string are: \",new_str)\n",
    "str=input(\"Enter the string: \")\n",
    "get_vowels(str)"
   ]
  }
 ],
 "metadata": {
  "kernelspec": {
   "display_name": "Python 3",
   "language": "python",
   "name": "python3"
  },
  "language_info": {
   "codemirror_mode": {
    "name": "ipython",
    "version": 3
   },
   "file_extension": ".py",
   "mimetype": "text/x-python",
   "name": "python",
   "nbconvert_exporter": "python",
   "pygments_lexer": "ipython3",
   "version": "3.8.3"
  }
 },
 "nbformat": 4,
 "nbformat_minor": 4
}
