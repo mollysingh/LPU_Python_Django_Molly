{
 "cells": [
  {
   "cell_type": "markdown",
   "metadata": {},
   "source": [
    "<b>Q1.  From this given string: s = \"Hey i am from New Delhi\". Find out: length of string, convert this to list using split operation.</b>"
   ]
  },
  {
   "cell_type": "code",
   "execution_count": 2,
   "metadata": {},
   "outputs": [
    {
     "name": "stdout",
     "output_type": "stream",
     "text": [
      "Hey i am from New Delhi\n",
      "Length of the string:  23\n",
      "['Hey', 'i', 'am', 'from', 'New', 'Delhi']\n"
     ]
    }
   ],
   "source": [
    "s=\"Hey i am from New Delhi\"\n",
    "print(s)\n",
    "print(\"Length of the string: \",len(s))\n",
    "print(s.split())"
   ]
  },
  {
   "cell_type": "markdown",
   "metadata": {},
   "source": [
    "<b>Q2.  Given string s = \"name is rahul\". Write code to give following o/p.\n",
    "- \"Name is rahul\"\n",
    "-  \"Rame Is Rahul\"\n",
    "-  \"NAME IS RAHUL\"</b>"
   ]
  },
  {
   "cell_type": "code",
   "execution_count": 4,
   "metadata": {},
   "outputs": [
    {
     "name": "stdout",
     "output_type": "stream",
     "text": [
      "Name is rahul\n",
      "Rame Is Rahul\n",
      "NAME IS RAHUL\n"
     ]
    }
   ],
   "source": [
    "s=\"name is rahul\"\n",
    "print(s.capitalize())\n",
    "print(s.replace('n','R').title())\n",
    "print(s.upper())"
   ]
  },
  {
   "cell_type": "markdown",
   "metadata": {},
   "source": [
    "<b>Q3. Using length and breadth as input find out area and perimeter of a given rectangle.</b>"
   ]
  },
  {
   "cell_type": "code",
   "execution_count": 11,
   "metadata": {},
   "outputs": [
    {
     "name": "stdout",
     "output_type": "stream",
     "text": [
      "Enter the length of the rectangle: 5.2\n",
      "Enter the breadth of the rectangle: 2.4\n",
      "Perimeter:  15.2\n",
      "Area:  12.48\n"
     ]
    }
   ],
   "source": [
    "l=float(input(\"Enter the length of the rectangle: \"))\n",
    "b=float(input(\"Enter the breadth of the rectangle: \"))\n",
    "p=2*(l+b)\n",
    "a=l*b\n",
    "print(\"Perimeter: \",p)\n",
    "print(\"Area: \",a)"
   ]
  },
  {
   "cell_type": "markdown",
   "metadata": {},
   "source": [
    "<b>Q4. Using diameter as input find out circumference and area of a circle.</b>"
   ]
  },
  {
   "cell_type": "code",
   "execution_count": 12,
   "metadata": {},
   "outputs": [
    {
     "name": "stdout",
     "output_type": "stream",
     "text": [
      "Enter the diameter of the circle: 14\n",
      "Circumference:  43.96\n",
      "Area:  153.86\n"
     ]
    }
   ],
   "source": [
    "d=float(input(\"Enter the diameter of the circle: \"))\n",
    "r=d/2\n",
    "c=2*3.14*r\n",
    "a=3.14*r*r\n",
    "print(\"Circumference: \",c)\n",
    "print(\"Area: \",a)"
   ]
  },
  {
   "cell_type": "markdown",
   "metadata": {},
   "source": [
    "<b>Q5. Write a program to compute roots of a quadratic equation when coefficients a, b and c are known(entered by user).</b>"
   ]
  },
  {
   "cell_type": "code",
   "execution_count": 25,
   "metadata": {},
   "outputs": [
    {
     "name": "stdout",
     "output_type": "stream",
     "text": [
      "Enter the coefficients for the quadratic equation 'ax^2 + bx + c = 0:'  3 5 2\n",
      "The roots are  (-6+0j) and (-9+0j)\n"
     ]
    }
   ],
   "source": [
    "import cmath\n",
    "a, b, c = [float(x) for x in input(\"Enter the coefficients for the quadratic equation 'ax^2 + bx + c = 0:'  \").split()]\n",
    "d = b**2 - 4*a*c\n",
    "print(\"The roots are \",(-b+cmath.sqrt(d))/2*a, \"and\" ,(-b-cmath.sqrt(d))/2*a)"
   ]
  },
  {
   "cell_type": "markdown",
   "metadata": {},
   "source": [
    "<b>Q6. Find volume of a sphere using radius as input.</b>"
   ]
  },
  {
   "cell_type": "code",
   "execution_count": 2,
   "metadata": {},
   "outputs": [
    {
     "name": "stdout",
     "output_type": "stream",
     "text": [
      "Enter the radius of the sphere: 7\n",
      "Volume:  1436.027\n"
     ]
    }
   ],
   "source": [
    "r=float(input(\"Enter the radius of the sphere: \"))\n",
    "v=round((4/3)*3.14*(r**3),3)\n",
    "print(\"Volume: \",v)"
   ]
  },
  {
   "cell_type": "markdown",
   "metadata": {},
   "source": [
    "<b>Q7. Count the  number of digits in a number. Example: 3454 has 4 digits.</b>"
   ]
  },
  {
   "cell_type": "code",
   "execution_count": 11,
   "metadata": {},
   "outputs": [
    {
     "name": "stdout",
     "output_type": "stream",
     "text": [
      "Enter a number: 3454\n",
      "4\n"
     ]
    }
   ],
   "source": [
    "n=input(\"Enter a number: \")\n",
    "if(n.isdigit()):\n",
    "    print(len(n))\n",
    "else:\n",
    "    print(\"WARNING: Enter number only\")"
   ]
  },
  {
   "cell_type": "markdown",
   "metadata": {},
   "source": [
    "<b>Q8. Write a program that accepts a string and gives output string with all capital letters.</b>"
   ]
  },
  {
   "cell_type": "code",
   "execution_count": 15,
   "metadata": {},
   "outputs": [
    {
     "name": "stdout",
     "output_type": "stream",
     "text": [
      "Enter a string: good evening\n",
      "GOOD EVENING\n"
     ]
    }
   ],
   "source": [
    "str=input(\"Enter a string: \")\n",
    "print(str.upper())"
   ]
  },
  {
   "cell_type": "markdown",
   "metadata": {},
   "source": [
    "<b>Q9. Write a program to that accepts a string s, an index number n and a character ‘c’. And outputs the string replaced with the character at the index number n. Example- ‘hello’ , 0 , ‘j’ ==> ‘jello’.\n",
    "(Hint2: You can try it by join function too by typecasting it to list)</b>"
   ]
  },
  {
   "cell_type": "code",
   "execution_count": 22,
   "metadata": {},
   "outputs": [
    {
     "name": "stdout",
     "output_type": "stream",
     "text": [
      "Enter a string: hello\n",
      "Enter index number: 0\n",
      "Enter a character: j\n",
      "jello\n"
     ]
    }
   ],
   "source": [
    "s=input(\"Enter a string: \")\n",
    "n=int(input(\"Enter index number: \"))\n",
    "c=input(\"Enter a character: \")\n",
    "if n<len(s):\n",
    "    s=list(s)\n",
    "    s[n]=c\n",
    "    print(\"\".join(s))\n",
    "else:\n",
    "    print(\"Inavlid entry\")"
   ]
  },
  {
   "cell_type": "markdown",
   "metadata": {},
   "source": [
    "<b>Q10. Reverse a string. Example: 'Hey there' = 'ereht yeH'</b>"
   ]
  },
  {
   "cell_type": "code",
   "execution_count": 24,
   "metadata": {},
   "outputs": [
    {
     "name": "stdout",
     "output_type": "stream",
     "text": [
      "Enter a string: Hey there\n",
      "Reversed String:  ereht yeH\n"
     ]
    }
   ],
   "source": [
    "s = input(\"Enter a string: \")\n",
    "print(\"Reversed String: \",s[::-1])"
   ]
  },
  {
   "cell_type": "code",
   "execution_count": null,
   "metadata": {},
   "outputs": [],
   "source": []
  }
 ],
 "metadata": {
  "kernelspec": {
   "display_name": "Python 3",
   "language": "python",
   "name": "python3"
  },
  "language_info": {
   "codemirror_mode": {
    "name": "ipython",
    "version": 3
   },
   "file_extension": ".py",
   "mimetype": "text/x-python",
   "name": "python",
   "nbconvert_exporter": "python",
   "pygments_lexer": "ipython3",
   "version": "3.8.3"
  }
 },
 "nbformat": 4,
 "nbformat_minor": 4
}
